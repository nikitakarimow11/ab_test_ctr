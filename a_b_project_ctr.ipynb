{
 "cells": [
  {
   "cell_type": "code",
   "execution_count": 1,
   "id": "d8df7a0c-19cd-4370-9784-918361357b7c",
   "metadata": {},
   "outputs": [],
   "source": [
    "import pandahouse\n",
    "import pandas as pd\n",
    "import seaborn as sns\n",
    "import matplotlib.pyplot as plt\n",
    "import numpy as np\n",
    "import hashlib\n",
    "import swifter\n",
    "from scipy import stats"
   ]
  },
  {
   "cell_type": "code",
   "execution_count": 2,
   "id": "4002fefd-33dc-4086-8168-67a6d0785132",
   "metadata": {},
   "outputs": [
    {
     "data": {
      "text/html": [
       "<div>\n",
       "<style scoped>\n",
       "    .dataframe tbody tr th:only-of-type {\n",
       "        vertical-align: middle;\n",
       "    }\n",
       "\n",
       "    .dataframe tbody tr th {\n",
       "        vertical-align: top;\n",
       "    }\n",
       "\n",
       "    .dataframe thead th {\n",
       "        text-align: right;\n",
       "    }\n",
       "</style>\n",
       "<table border=\"1\" class=\"dataframe\">\n",
       "  <thead>\n",
       "    <tr style=\"text-align: right;\">\n",
       "      <th></th>\n",
       "      <th>user_id</th>\n",
       "    </tr>\n",
       "  </thead>\n",
       "  <tbody>\n",
       "    <tr>\n",
       "      <th>0</th>\n",
       "      <td>11509</td>\n",
       "    </tr>\n",
       "    <tr>\n",
       "      <th>1</th>\n",
       "      <td>14946</td>\n",
       "    </tr>\n",
       "    <tr>\n",
       "      <th>2</th>\n",
       "      <td>107626</td>\n",
       "    </tr>\n",
       "    <tr>\n",
       "      <th>3</th>\n",
       "      <td>117693</td>\n",
       "    </tr>\n",
       "    <tr>\n",
       "      <th>4</th>\n",
       "      <td>119016</td>\n",
       "    </tr>\n",
       "    <tr>\n",
       "      <th>...</th>\n",
       "      <td>...</td>\n",
       "    </tr>\n",
       "    <tr>\n",
       "      <th>41992</th>\n",
       "      <td>133122</td>\n",
       "    </tr>\n",
       "    <tr>\n",
       "      <th>41993</th>\n",
       "      <td>13344</td>\n",
       "    </tr>\n",
       "    <tr>\n",
       "      <th>41994</th>\n",
       "      <td>2385</td>\n",
       "    </tr>\n",
       "    <tr>\n",
       "      <th>41995</th>\n",
       "      <td>131256</td>\n",
       "    </tr>\n",
       "    <tr>\n",
       "      <th>41996</th>\n",
       "      <td>27766</td>\n",
       "    </tr>\n",
       "  </tbody>\n",
       "</table>\n",
       "<p>41997 rows × 1 columns</p>\n",
       "</div>"
      ],
      "text/plain": [
       "       user_id\n",
       "0        11509\n",
       "1        14946\n",
       "2       107626\n",
       "3       117693\n",
       "4       119016\n",
       "...        ...\n",
       "41992   133122\n",
       "41993    13344\n",
       "41994     2385\n",
       "41995   131256\n",
       "41996    27766\n",
       "\n",
       "[41997 rows x 1 columns]"
      ]
     },
     "execution_count": 2,
     "metadata": {},
     "output_type": "execute_result"
    }
   ],
   "source": [
    "connection = {\n",
    "    'host': 'HOST',\n",
    "    'password': 'PASSWORD',\n",
    "    'user': 'USER',\n",
    "    'database': 'DATABASE'\n",
    "}\n",
    "\n",
    "q = \"\"\"\n",
    "SELECT distinct user_id\n",
    "FROM {db}.feed_actions \n",
    "WHERE toDate(time) >= '2025-01-24' and toDate(time) <= '2025-01-30' \n",
    "\"\"\"\n",
    "pandahouse.read_clickhouse(q, connection=connection)"
   ]
  },
  {
   "cell_type": "code",
   "execution_count": 3,
   "id": "067d1fbc-e9bb-4743-a1bd-5fbe48ae3f68",
   "metadata": {},
   "outputs": [
    {
     "data": {
      "text/html": [
       "<div>\n",
       "<style scoped>\n",
       "    .dataframe tbody tr th:only-of-type {\n",
       "        vertical-align: middle;\n",
       "    }\n",
       "\n",
       "    .dataframe tbody tr th {\n",
       "        vertical-align: top;\n",
       "    }\n",
       "\n",
       "    .dataframe thead th {\n",
       "        text-align: right;\n",
       "    }\n",
       "</style>\n",
       "<table border=\"1\" class=\"dataframe\">\n",
       "  <thead>\n",
       "    <tr style=\"text-align: right;\">\n",
       "      <th></th>\n",
       "      <th>exp_group</th>\n",
       "      <th>user_id</th>\n",
       "      <th>likes</th>\n",
       "      <th>views</th>\n",
       "      <th>ctr</th>\n",
       "    </tr>\n",
       "  </thead>\n",
       "  <tbody>\n",
       "    <tr>\n",
       "      <th>0</th>\n",
       "      <td>2</td>\n",
       "      <td>8362</td>\n",
       "      <td>8362</td>\n",
       "      <td>8362</td>\n",
       "      <td>8362</td>\n",
       "    </tr>\n",
       "    <tr>\n",
       "      <th>1</th>\n",
       "      <td>3</td>\n",
       "      <td>8425</td>\n",
       "      <td>8425</td>\n",
       "      <td>8425</td>\n",
       "      <td>8425</td>\n",
       "    </tr>\n",
       "  </tbody>\n",
       "</table>\n",
       "</div>"
      ],
      "text/plain": [
       "   exp_group  user_id  likes  views   ctr\n",
       "0          2     8362   8362   8362  8362\n",
       "1          3     8425   8425   8425  8425"
      ]
     },
     "execution_count": 3,
     "metadata": {},
     "output_type": "execute_result"
    }
   ],
   "source": [
    "#Проверим данные в группах\n",
    "\n",
    "q = \"\"\"\n",
    "SELECT exp_group, \n",
    "    user_id,\n",
    "    sum(action = 'like') as likes,\n",
    "    sum(action = 'view') as views,\n",
    "    likes/views as ctr\n",
    "FROM {db}.feed_actions \n",
    "WHERE toDate(time) between '2025-01-24' and '2025-01-30'\n",
    "    and exp_group in (2,3)\n",
    "GROUP BY exp_group, user_id\n",
    "\"\"\"\n",
    "\n",
    "df = pandahouse.read_clickhouse(q, connection=connection)\n",
    "\n",
    "df.groupby('exp_group').count().reset_index()"
   ]
  },
  {
   "cell_type": "markdown",
   "id": "dd247319-42dc-4f21-9345-bb8c679eb097",
   "metadata": {},
   "source": [
    "Сперва нам необходимо проверить систему сплитования.Для этого 10 000 раз сгенерируем выборку по 500 пользователей из каждой подгруппы и 10 000 раз проведем т-тест, записав p-value в отдельную переменную."
   ]
  },
  {
   "cell_type": "code",
   "execution_count": 4,
   "id": "9347405a-2b92-4dcd-872f-0db75ce26732",
   "metadata": {},
   "outputs": [],
   "source": [
    "# создадим пустой список для значений p-value\n",
    "\n",
    "p_values = []"
   ]
  },
  {
   "cell_type": "code",
   "execution_count": 5,
   "id": "8deb7b06-ce9b-483a-a44b-e51fcee58e4e",
   "metadata": {},
   "outputs": [],
   "source": [
    "# Проведение t-теста 10 000 раз\n",
    "for _ in range(10000):\n",
    "    # Случайная выборка 500 пользователей из каждой группы\n",
    "    sample_group2 = df[df.exp_group == 2].sample(500, replace=False).ctr\n",
    "    sample_group3 = df[df.exp_group == 3].sample(500, replace=False).ctr\n",
    "    \n",
    "    # Проведение t-теста\n",
    "    _, p_value = stats.ttest_ind(sample_group2, sample_group3, equal_var=False)\n",
    "    \n",
    "    # Сохранение p-value\n",
    "    p_values.append(p_value)"
   ]
  },
  {
   "cell_type": "code",
   "execution_count": 6,
   "id": "8faaa59f-118c-4162-aa7b-357af5e713b2",
   "metadata": {},
   "outputs": [],
   "source": [
    "p_values_df = pd.DataFrame(p_values, columns=['p_value'])"
   ]
  },
  {
   "cell_type": "code",
   "execution_count": 7,
   "id": "af46181d-b378-480b-abed-9edfb942de38",
   "metadata": {},
   "outputs": [
    {
     "data": {
      "text/html": [
       "<div>\n",
       "<style scoped>\n",
       "    .dataframe tbody tr th:only-of-type {\n",
       "        vertical-align: middle;\n",
       "    }\n",
       "\n",
       "    .dataframe tbody tr th {\n",
       "        vertical-align: top;\n",
       "    }\n",
       "\n",
       "    .dataframe thead th {\n",
       "        text-align: right;\n",
       "    }\n",
       "</style>\n",
       "<table border=\"1\" class=\"dataframe\">\n",
       "  <thead>\n",
       "    <tr style=\"text-align: right;\">\n",
       "      <th></th>\n",
       "      <th>p_value</th>\n",
       "    </tr>\n",
       "  </thead>\n",
       "  <tbody>\n",
       "    <tr>\n",
       "      <th>0</th>\n",
       "      <td>0.911577</td>\n",
       "    </tr>\n",
       "    <tr>\n",
       "      <th>1</th>\n",
       "      <td>0.936569</td>\n",
       "    </tr>\n",
       "    <tr>\n",
       "      <th>2</th>\n",
       "      <td>0.112275</td>\n",
       "    </tr>\n",
       "    <tr>\n",
       "      <th>3</th>\n",
       "      <td>0.332180</td>\n",
       "    </tr>\n",
       "    <tr>\n",
       "      <th>4</th>\n",
       "      <td>0.453312</td>\n",
       "    </tr>\n",
       "    <tr>\n",
       "      <th>...</th>\n",
       "      <td>...</td>\n",
       "    </tr>\n",
       "    <tr>\n",
       "      <th>9995</th>\n",
       "      <td>0.141068</td>\n",
       "    </tr>\n",
       "    <tr>\n",
       "      <th>9996</th>\n",
       "      <td>0.567857</td>\n",
       "    </tr>\n",
       "    <tr>\n",
       "      <th>9997</th>\n",
       "      <td>0.881927</td>\n",
       "    </tr>\n",
       "    <tr>\n",
       "      <th>9998</th>\n",
       "      <td>0.998629</td>\n",
       "    </tr>\n",
       "    <tr>\n",
       "      <th>9999</th>\n",
       "      <td>0.858408</td>\n",
       "    </tr>\n",
       "  </tbody>\n",
       "</table>\n",
       "<p>10000 rows × 1 columns</p>\n",
       "</div>"
      ],
      "text/plain": [
       "       p_value\n",
       "0     0.911577\n",
       "1     0.936569\n",
       "2     0.112275\n",
       "3     0.332180\n",
       "4     0.453312\n",
       "...        ...\n",
       "9995  0.141068\n",
       "9996  0.567857\n",
       "9997  0.881927\n",
       "9998  0.998629\n",
       "9999  0.858408\n",
       "\n",
       "[10000 rows x 1 columns]"
      ]
     },
     "execution_count": 7,
     "metadata": {},
     "output_type": "execute_result"
    }
   ],
   "source": [
    "# проверим значения p_value\n",
    "\n",
    "p_values_df"
   ]
  },
  {
   "cell_type": "code",
   "execution_count": 8,
   "id": "176cb34a-90c9-4bc2-91d2-4eef70554ce6",
   "metadata": {},
   "outputs": [
    {
     "data": {
      "image/png": "[encoded data removed]",
      "text/plain": [
       "<Figure size 720x432 with 1 Axes>"
      ]
     },
     "metadata": {
      "needs_background": "light"
     },
     "output_type": "display_data"
    }
   ],
   "source": [
    "# Визуализация распределения p-значений\n",
    "plt.figure(figsize=(10, 6))\n",
    "sns.histplot(p_values_df['p_value'], bins=50, kde=True)\n",
    "plt.title('Распределение p-значений')\n",
    "plt.xlabel('p-value')\n",
    "plt.ylabel('Частота')\n",
    "plt.xlim(0, 1)  # Ограничение по оси X от 0 до 1\n",
    "plt.grid()\n",
    "plt.show()"
   ]
  },
  {
   "cell_type": "code",
   "execution_count": 9,
   "id": "39fc6edf-a0ff-49fb-ae74-5f921739b68c",
   "metadata": {},
   "outputs": [
    {
     "data": {
      "text/plain": [
       "p_value    0.0451\n",
       "dtype: float64"
      ]
     },
     "execution_count": 9,
     "metadata": {},
     "output_type": "execute_result"
    }
   ],
   "source": [
    "# Посчитаем отношение p_value менее 5% ко всем значениям p_value\n",
    "p_values_df.query('p_value < 0.05').count() / p_values_df.count()"
   ]
  },
  {
   "cell_type": "code",
   "execution_count": 10,
   "id": "d59df9ef-c0de-46ef-84ab-f72724bbbafb",
   "metadata": {
    "tags": []
   },
   "outputs": [],
   "source": [
    "# в менее 5% случаев p-value менее 0.05. Значит система сплитования работает корректно."
   ]
  },
  {
   "cell_type": "markdown",
   "id": "1091f181-af7f-46f2-84e9-20dd69dd0369",
   "metadata": {},
   "source": [
    "Приступим к проведению А/Б теста"
   ]
  },
  {
   "cell_type": "code",
   "execution_count": 36,
   "id": "15e55622-54a2-4015-a380-c97327af12ee",
   "metadata": {},
   "outputs": [
    {
     "data": {
      "text/html": [
       "<div>\n",
       "<style scoped>\n",
       "    .dataframe tbody tr th:only-of-type {\n",
       "        vertical-align: middle;\n",
       "    }\n",
       "\n",
       "    .dataframe tbody tr th {\n",
       "        vertical-align: top;\n",
       "    }\n",
       "\n",
       "    .dataframe thead th {\n",
       "        text-align: right;\n",
       "    }\n",
       "</style>\n",
       "<table border=\"1\" class=\"dataframe\">\n",
       "  <thead>\n",
       "    <tr style=\"text-align: right;\">\n",
       "      <th></th>\n",
       "      <th>exp_group</th>\n",
       "      <th>user_id</th>\n",
       "      <th>likes</th>\n",
       "      <th>views</th>\n",
       "      <th>ctr</th>\n",
       "    </tr>\n",
       "  </thead>\n",
       "  <tbody>\n",
       "    <tr>\n",
       "      <th>0</th>\n",
       "      <td>1</td>\n",
       "      <td>10020</td>\n",
       "      <td>10020</td>\n",
       "      <td>10020</td>\n",
       "      <td>10020</td>\n",
       "    </tr>\n",
       "    <tr>\n",
       "      <th>1</th>\n",
       "      <td>2</td>\n",
       "      <td>9877</td>\n",
       "      <td>9877</td>\n",
       "      <td>9877</td>\n",
       "      <td>9877</td>\n",
       "    </tr>\n",
       "  </tbody>\n",
       "</table>\n",
       "</div>"
      ],
      "text/plain": [
       "   exp_group  user_id  likes  views    ctr\n",
       "0          1    10020  10020  10020  10020\n",
       "1          2     9877   9877   9877   9877"
      ]
     },
     "execution_count": 36,
     "metadata": {},
     "output_type": "execute_result"
    }
   ],
   "source": [
    "#Выгрузим данные и проверим данные в группах\n",
    "\n",
    "q_2 = \"\"\"\n",
    "SELECT exp_group, \n",
    "    user_id,\n",
    "    sum(action = 'like') as likes,\n",
    "    sum(action = 'view') as views,\n",
    "    likes/views as ctr\n",
    "FROM {db}.feed_actions \n",
    "WHERE toDate(time) between '2025-01-31' and '2025-02-06'\n",
    "    and exp_group in (1,2)\n",
    "GROUP BY exp_group, user_id\n",
    "\"\"\"\n",
    "\n",
    "df_2 = pandahouse.read_clickhouse(q_2, connection=connection)\n",
    "\n",
    "df_2.groupby('exp_group').count().reset_index()"
   ]
  },
  {
   "cell_type": "code",
   "execution_count": 37,
   "id": "093d0e32-22e3-4c51-b53b-0005290e5f1a",
   "metadata": {},
   "outputs": [
    {
     "data": {
      "text/plain": [
       "<Axes: xlabel='ctr', ylabel='Count'>"
      ]
     },
     "execution_count": 37,
     "metadata": {},
     "output_type": "execute_result"
    },
    {
     "data": {
      "image/png": "[encoded data removed]",
      "text/plain": [
       "<Figure size 1800x720 with 1 Axes>"
      ]
     },
     "metadata": {},
     "output_type": "display_data"
    }
   ],
   "source": [
    "# Построим распределение CTR для первой группы\n",
    "sns.histplot(df_2.query('exp_group == 1').ctr)"
   ]
  },
  {
   "cell_type": "code",
   "execution_count": 38,
   "id": "2d1bf646-a4c3-4aaa-b29a-8821526ac1a4",
   "metadata": {},
   "outputs": [
    {
     "data": {
      "text/plain": [
       "<Axes: xlabel='ctr', ylabel='Count'>"
      ]
     },
     "execution_count": 38,
     "metadata": {},
     "output_type": "execute_result"
    },
    {
     "data": {
      "image/png": "[encoded data removed]",
      "text/plain": [
       "<Figure size 1800x720 with 1 Axes>"
      ]
     },
     "metadata": {},
     "output_type": "display_data"
    }
   ],
   "source": [
    "# Построим распределение CTR для второй группы\n",
    "sns.histplot(df_2.query('exp_group == 2').ctr)"
   ]
  },
  {
   "cell_type": "markdown",
   "id": "c625faf2-d057-4265-85cb-461fa059d17e",
   "metadata": {},
   "source": [
    "Размеры одной из групп немного меньше. Допустим, что это не повлияет на результаты тестов."
   ]
  },
  {
   "cell_type": "code",
   "execution_count": 35,
   "id": "8fb1455d-6910-474c-80f6-01b28aea0e18",
   "metadata": {},
   "outputs": [
    {
     "data": {
      "image/png": "[encoded data removed]",
      "text/plain": [
       "<Figure size 1800x720 with 1 Axes>"
      ]
     },
     "metadata": {},
     "output_type": "display_data"
    }
   ],
   "source": [
    "# Сделаем графики в seaborn\n",
    "sns.set(rc={'figure.figsize':(25,10)})\n",
    "\n",
    "groups = sns.histplot(data = df_2, \n",
    "              x='ctr', \n",
    "              hue='exp_group', \n",
    "              palette = ['y', 'b'],\n",
    "              alpha=0.5,\n",
    "              kde=False)"
   ]
  },
  {
   "cell_type": "markdown",
   "id": "2391df53-70ec-4bb2-86a8-79dd79046660",
   "metadata": {},
   "source": [
    "На гравифках видно, что распределение с новым алгоритмом рекомендаций является бимодальным."
   ]
  },
  {
   "cell_type": "markdown",
   "id": "d2326c69-bd40-478c-a2fb-fbcfab2d660e",
   "metadata": {},
   "source": [
    "Наилучшим выбором для вашего случая с бимодальным распределением будет тест Манна-Уитни, так как он не требует предположений о нормальности и может корректно обрабатывать данные с нестандартными распределениями.Также обратим внимание на тест Манна-Уитни поверх бакетного преобразования."
   ]
  },
  {
   "cell_type": "markdown",
   "id": "90c0ddb1-d89e-4c9d-a141-9942e631d728",
   "metadata": {},
   "source": [
    "t-тест предполагает, что данные в группах нормально распределены. \n",
    "Бимодальное распределение, имеющее два пика, явно нарушает это предположение. Это может привести к искажению результатов t-теста и неверным выводам, поэтому опираться на его результаты мы не станем.\n",
    "\n",
    "Но все равно проведем t-тест ради интереса."
   ]
  },
  {
   "cell_type": "markdown",
   "id": "05d8b681-a996-4eb2-8932-31bed9675a2f",
   "metadata": {},
   "source": [
    "группа 1 - контрольная \n",
    "группа 2 - был использован один из новых алгоритмов рекомендации постов"
   ]
  },
  {
   "cell_type": "markdown",
   "id": "201c5de6-4abf-4d37-86ca-6a6fd11bc5b4",
   "metadata": {},
   "source": [
    "Перед проведением т-теста сперва проверим дисперсии в двух группах."
   ]
  },
  {
   "cell_type": "code",
   "execution_count": 13,
   "id": "06754594-81fa-403b-9d50-f2c9e4e637ee",
   "metadata": {},
   "outputs": [
    {
     "name": "stdout",
     "output_type": "stream",
     "text": [
      "Тест Левене: статистика = 0.0, p-значение = 1.0\n",
      "Тест Бартлетта: статистика = -7.275774769019347e-12, p-значение = 1.0\n"
     ]
    }
   ],
   "source": [
    "# Проверка равенства дисперсий с помощью теста Левене\n",
    "levene_stat, levene_p = stats.levene(df_2.exp_group == 1, df_2.exp_group == 2)\n",
    "print(f\"Тест Левене: статистика = {levene_stat}, p-значение = {levene_p}\")\n",
    "\n",
    "# Проверка равенства дисперсий с помощью теста Бартлетта\n",
    "bartlett_stat, bartlett_p = stats.bartlett(df_2.exp_group == 1, df_2.exp_group == 2)\n",
    "print(f\"Тест Бартлетта: статистика = {bartlett_stat}, p-значение = {bartlett_p}\")"
   ]
  },
  {
   "cell_type": "markdown",
   "id": "1f4ef047-3aee-407e-ac7d-cb6f4f1400ac",
   "metadata": {},
   "source": [
    "Оба теста говорят о том, что мы можем считать дисперсии внутри групп равными."
   ]
  },
  {
   "cell_type": "code",
   "execution_count": 14,
   "id": "77e57576-b7be-4bda-9fb3-240b5cf3a75c",
   "metadata": {},
   "outputs": [
    {
     "data": {
      "text/plain": [
       "Ttest_indResult(statistic=0.4065949741045715, pvalue=0.6843098628062774)"
      ]
     },
     "execution_count": 14,
     "metadata": {},
     "output_type": "execute_result"
    }
   ],
   "source": [
    "#T-тест\n",
    "\n",
    "stats.ttest_ind(df_2[df_2.exp_group == 1].ctr,\n",
    "                df_2[df_2.exp_group == 2].ctr,\n",
    "                equal_var=True)\n",
    "\n",
    "#так как мы уверены в равности дисперсий, то указываем параметр equal_var=True"
   ]
  },
  {
   "cell_type": "markdown",
   "id": "59c0bf4d-d445-4b35-a446-1c386407bcfc",
   "metadata": {},
   "source": [
    "Значит т-тест говорит о том, что гипотеза верна и отличий в системе рекомендаций нет.Хоть и верить ему не стоит."
   ]
  },
  {
   "cell_type": "markdown",
   "id": "b4b4250c-8137-4597-b2f1-607ccdc33f35",
   "metadata": {},
   "source": [
    "Теперь провеедем А/Б тест с помощью теста Манна-Уитни и Пуассоновского бутстрепа."
   ]
  },
  {
   "cell_type": "code",
   "execution_count": 15,
   "id": "e9481662-0cd4-459e-a9f6-970d07dcbfb0",
   "metadata": {},
   "outputs": [
    {
     "data": {
      "text/plain": [
       "MannwhitneyuResult(statistic=55189913.0, pvalue=4.632205841806026e-45)"
      ]
     },
     "execution_count": 15,
     "metadata": {},
     "output_type": "execute_result"
    }
   ],
   "source": [
    "# тест Манна-Уитни\n",
    "stats.mannwhitneyu(df_2[df_2.exp_group == 1].ctr, \n",
    "                   df_2[df_2.exp_group == 2].ctr,\n",
    "                   alternative = 'two-sided')\n",
    "\n",
    "# Поскольку у нас нет предположений,какая из групп имеет большие значения, выбираем альтернативу two-sided"
   ]
  },
  {
   "cell_type": "code",
   "execution_count": 41,
   "id": "ab4eeb13-3e72-49ca-8d23-def580837ce0",
   "metadata": {},
   "outputs": [
    {
     "name": "stdout",
     "output_type": "stream",
     "text": [
      "Median Group 1 (Old System): 0.2058823529411764\n",
      "Median Group 2 (New System): 0.1532846715328467\n"
     ]
    }
   ],
   "source": [
    "median_group_1 = df_2[df_2.exp_group == 1].ctr.median()\n",
    "median_group_2 = df_2[df_2.exp_group == 2].ctr.median()\n",
    "  \n",
    "\n",
    "print(f'Median Group 1 (Old System): {median_group_1}')\n",
    "print(f'Median Group 2 (New System): {median_group_2}')"
   ]
  },
  {
   "cell_type": "code",
   "execution_count": null,
   "id": "69c0ab6b-8303-4236-839e-3ccafc30916c",
   "metadata": {},
   "outputs": [],
   "source": [
    "Медианное значение для новой системы рекомендаций ниже, чем медианное значение старой системы рекомендаций."
   ]
  },
  {
   "cell_type": "markdown",
   "id": "29f89c88-0cb4-46b3-b353-4cf7d506d2ef",
   "metadata": {},
   "source": [
    "тест Манна-Уитни показывает стат значимые отличия между группами "
   ]
  },
  {
   "cell_type": "markdown",
   "id": "1efabea5-0159-4b4b-b788-34db14aa1e7d",
   "metadata": {},
   "source": [
    "Проверим данные Пуассоновский бутстрепом."
   ]
  },
  {
   "cell_type": "code",
   "execution_count": 16,
   "id": "1cfe64bc-75aa-4f3c-bc13-e03e01c1487e",
   "metadata": {},
   "outputs": [],
   "source": [
    "def bootstrap(likes1, views1, likes2, views2, n_bootstrap=2000):\n",
    "\n",
    "    poisson_bootstraps1 = stats.poisson(1).rvs(\n",
    "        (n_bootstrap, len(likes1))).astype(np.int64)\n",
    "\n",
    "    poisson_bootstraps2 = stats.poisson(1).rvs(\n",
    "            (n_bootstrap, len(likes2))).astype(np.int64)\n",
    "    \n",
    "    globalCTR1 = (poisson_bootstraps1*likes1).sum(axis=1)/(poisson_bootstraps1*views1).sum(axis=1)\n",
    "    \n",
    "    globalCTR2 = (poisson_bootstraps2*likes2).sum(axis=1)/(poisson_bootstraps2*views2).sum(axis=1)\n",
    "\n",
    "    return globalCTR1, globalCTR2"
   ]
  },
  {
   "cell_type": "code",
   "execution_count": 17,
   "id": "127c050c-e68b-4821-a38b-df365d462cb1",
   "metadata": {},
   "outputs": [],
   "source": [
    "q_3 = \"\"\"\n",
    "SELECT exp_group, \n",
    "    user_id,\n",
    "    sum(action = 'like') as likes,\n",
    "    sum(action = 'view') as views,\n",
    "    likes/views as ctr\n",
    "FROM {db}.feed_actions \n",
    "WHERE toDate(time) between '2025-01-31' and '2025-02-06'\n",
    "    and exp_group in (1,2)\n",
    "GROUP BY exp_group, user_id\n",
    "\"\"\""
   ]
  },
  {
   "cell_type": "code",
   "execution_count": 18,
   "id": "5ff81dd7-9771-4575-b3f1-5b1a1bb5cd51",
   "metadata": {},
   "outputs": [],
   "source": [
    "df_3 = pandahouse.read_clickhouse(q_3, connection=connection)\n",
    "\n",
    "likes1 = df_3[df_3.exp_group == 1].likes.to_numpy()\n",
    "views1 = df_3[df_3.exp_group == 1].views.to_numpy()\n",
    "likes2 = df_3[df_3.exp_group == 2].likes.to_numpy()\n",
    "views2 = df_3[df_3.exp_group == 2].views.to_numpy()"
   ]
  },
  {
   "cell_type": "code",
   "execution_count": 31,
   "id": "3fecc119-22e9-4dce-b5ea-52479c3d77d7",
   "metadata": {},
   "outputs": [
    {
     "data": {
      "text/plain": [
       "<Axes: ylabel='Count'>"
      ]
     },
     "execution_count": 31,
     "metadata": {},
     "output_type": "execute_result"
    },
    {
     "data": {
      "image/png": "[encoded data removed]",
      "text/plain": [
       "<Figure size 1800x720 with 1 Axes>"
      ]
     },
     "metadata": {},
     "output_type": "display_data"
    }
   ],
   "source": [
    "ctr1, ctr2 = bootstrap(likes1, views1, likes2, views2)\n",
    "\n",
    "sns.histplot(ctr1)\n",
    "sns.histplot(ctr2)"
   ]
  },
  {
   "cell_type": "markdown",
   "id": "dfd81e23-e4a2-4ccc-ae06-39ac6afeebed",
   "metadata": {},
   "source": [
    "Мы также видим, что CTR у двух групп отличается"
   ]
  },
  {
   "cell_type": "markdown",
   "id": "2ebb626e-2352-47dd-bf3a-1b9443b1b909",
   "metadata": {},
   "source": [
    "Попробуем использовать t-тест на сглаженном CTR.Но на результаты этого теста также не стоит полагаться.\n",
    "Выполним его просто чтобы вспомнить метод."
   ]
  },
  {
   "cell_type": "code",
   "execution_count": 21,
   "id": "a60212aa-f7e1-455d-bcac-aee38e9503f0",
   "metadata": {},
   "outputs": [],
   "source": [
    "def get_smothed_ctr(user_likes, user_views, global_ctr, alpha):\n",
    "    smothed_ctr = (user_likes + alpha * global_ctr) / (user_views + alpha)\n",
    "    return smothed_ctr"
   ]
  },
  {
   "cell_type": "code",
   "execution_count": 22,
   "id": "8aedcbc9-060d-4a0a-a489-e75fe4918ea7",
   "metadata": {},
   "outputs": [],
   "source": [
    "q_4 = \"\"\"\n",
    "SELECT exp_group, \n",
    "    user_id,\n",
    "    sum(action = 'like') as likes,\n",
    "    sum(action = 'view') as views,\n",
    "    likes/views as ctr\n",
    "FROM {db}.feed_actions \n",
    "WHERE toDate(time) between '2025-01-31' and '2025-02-06'\n",
    "    and exp_group in (1,2)\n",
    "GROUP BY exp_group, user_id\n",
    "\"\"\"\n",
    "\n",
    "df_4 = pandahouse.read_clickhouse(q_4, connection=connection)\n",
    "\n",
    "global_ctr_1 = df_4[df_4.exp_group == 1].likes.sum()/df_4[df_4.exp_group == 1].views.sum()\n",
    "global_ctr_2 = df_4[df_4.exp_group == 2].likes.sum()/df_4[df_4.exp_group == 2].views.sum()"
   ]
  },
  {
   "cell_type": "code",
   "execution_count": 23,
   "id": "d55f7d98-f37b-465c-a6ef-9a9e13be4111",
   "metadata": {},
   "outputs": [
    {
     "name": "stderr",
     "output_type": "stream",
     "text": [
      "/tmp/ipykernel_141/439781346.py:2: UserWarning: \n",
      "\n",
      "`distplot` is a deprecated function and will be removed in seaborn v0.14.0.\n",
      "\n",
      "Please adapt your code to use either `displot` (a figure-level function with\n",
      "similar flexibility) or `histplot` (an axes-level function for histograms).\n",
      "\n",
      "For a guide to updating your code to use the new functions, please see\n",
      "https://gist.github.com/mwaskom/de44147ed2974457ad6372750bbe5751\n",
      "\n",
      "  sns.distplot(group1.ctr,\n",
      "/tmp/ipykernel_141/439781346.py:5: UserWarning: \n",
      "\n",
      "`distplot` is a deprecated function and will be removed in seaborn v0.14.0.\n",
      "\n",
      "Please adapt your code to use either `displot` (a figure-level function with\n",
      "similar flexibility) or `histplot` (an axes-level function for histograms).\n",
      "\n",
      "For a guide to updating your code to use the new functions, please see\n",
      "https://gist.github.com/mwaskom/de44147ed2974457ad6372750bbe5751\n",
      "\n",
      "  sns.distplot(group2.ctr,\n"
     ]
    },
    {
     "data": {
      "text/plain": [
       "<Axes: xlabel='ctr'>"
      ]
     },
     "execution_count": 23,
     "metadata": {},
     "output_type": "execute_result"
    },
    {
     "data": {
      "image/png": "[encoded data removed]",
      "text/plain": [
       "<Figure size 1800x720 with 1 Axes>"
      ]
     },
     "metadata": {},
     "output_type": "display_data"
    }
   ],
   "source": [
    "group1 = df_4[df_4.exp_group == 1].copy()\n",
    "sns.distplot(group1.ctr, \n",
    "             kde = False)\n",
    "group2 = df_4[df_4.exp_group == 2].copy()\n",
    "sns.distplot(group2.ctr, \n",
    "             kde = False)"
   ]
  },
  {
   "cell_type": "code",
   "execution_count": 24,
   "id": "9b9b3bf7-1778-40df-9592-608319207c0d",
   "metadata": {},
   "outputs": [
    {
     "name": "stderr",
     "output_type": "stream",
     "text": [
      "/tmp/ipykernel_141/3078276053.py:6: UserWarning: \n",
      "\n",
      "`distplot` is a deprecated function and will be removed in seaborn v0.14.0.\n",
      "\n",
      "Please adapt your code to use either `displot` (a figure-level function with\n",
      "similar flexibility) or `histplot` (an axes-level function for histograms).\n",
      "\n",
      "For a guide to updating your code to use the new functions, please see\n",
      "https://gist.github.com/mwaskom/de44147ed2974457ad6372750bbe5751\n",
      "\n",
      "  sns.distplot(group1.smothed_ctr,\n",
      "/tmp/ipykernel_141/3078276053.py:8: UserWarning: \n",
      "\n",
      "`distplot` is a deprecated function and will be removed in seaborn v0.14.0.\n",
      "\n",
      "Please adapt your code to use either `displot` (a figure-level function with\n",
      "similar flexibility) or `histplot` (an axes-level function for histograms).\n",
      "\n",
      "For a guide to updating your code to use the new functions, please see\n",
      "https://gist.github.com/mwaskom/de44147ed2974457ad6372750bbe5751\n",
      "\n",
      "  sns.distplot(group2.smothed_ctr,\n"
     ]
    },
    {
     "data": {
      "text/plain": [
       "<Axes: xlabel='smothed_ctr'>"
      ]
     },
     "execution_count": 24,
     "metadata": {},
     "output_type": "execute_result"
    },
    {
     "data": {
      "image/png": "[encoded data removed]",
      "text/plain": [
       "<Figure size 1800x720 with 1 Axes>"
      ]
     },
     "metadata": {},
     "output_type": "display_data"
    }
   ],
   "source": [
    "group1['smothed_ctr'] = df_4.apply(\n",
    "    lambda x: get_smothed_ctr(x['likes'], x['views'], global_ctr_1, 5), axis=1)\n",
    "group2['smothed_ctr'] = df_4.apply(\n",
    "    lambda x: get_smothed_ctr(x['likes'], x['views'], global_ctr_1, 5), axis=1)\n",
    "\n",
    "sns.distplot(group1.smothed_ctr, \n",
    "             kde = False)\n",
    "sns.distplot(group2.smothed_ctr, \n",
    "             kde = False)"
   ]
  },
  {
   "cell_type": "code",
   "execution_count": 25,
   "id": "26b1b613-92fc-49ac-9d11-4351b9b91934",
   "metadata": {},
   "outputs": [
    {
     "data": {
      "text/plain": [
       "<Axes: ylabel='Count'>"
      ]
     },
     "execution_count": 25,
     "metadata": {},
     "output_type": "execute_result"
    },
    {
     "data": {
      "image/png": "[encoded data removed]",
      "text/plain": [
       "<Figure size 1800x720 with 1 Axes>"
      ]
     },
     "metadata": {},
     "output_type": "display_data"
    }
   ],
   "source": [
    "#Разница между глобальными CTR\n",
    "\n",
    "sns.histplot(ctr1 - ctr2)"
   ]
  },
  {
   "cell_type": "markdown",
   "id": "594fda70-acc4-42f3-ad12-1f7b8417897b",
   "metadata": {},
   "source": [
    "Разница между CTR есть и она не пересекает ноль, значит, вероятно разница между группами действительно есть.Проверим т-тестом поверх сглаженного CTR"
   ]
  },
  {
   "cell_type": "code",
   "execution_count": 26,
   "id": "be102915-f630-4470-a3b6-90cc48fb970e",
   "metadata": {},
   "outputs": [
    {
     "data": {
      "text/plain": [
       "Ttest_indResult(statistic=1.2493139639018758, pvalue=0.21156496041439202)"
      ]
     },
     "execution_count": 26,
     "metadata": {},
     "output_type": "execute_result"
    }
   ],
   "source": [
    "#T-тест\n",
    "\n",
    "stats.ttest_ind(group1.smothed_ctr,\n",
    "                group2.smothed_ctr,\n",
    "                equal_var=True)"
   ]
  },
  {
   "cell_type": "markdown",
   "id": "2a6b59d0-7090-454d-b7bb-06c0aecde5de",
   "metadata": {},
   "source": [
    "т-тест поверх сглаженного CTR не показывает стат значимых отличий"
   ]
  },
  {
   "cell_type": "markdown",
   "id": "df13c90e-3af5-4a27-9026-3f438e5a3acf",
   "metadata": {},
   "source": [
    "Теперь выполним тест Манна-Уитни и т-тест поверх бакетного преобразования."
   ]
  },
  {
   "cell_type": "code",
   "execution_count": 27,
   "id": "f2cfb01c-01ae-4aa9-b862-fa44355329a7",
   "metadata": {},
   "outputs": [],
   "source": [
    "q_5 = \"\"\"\n",
    "\n",
    "SELECT exp_group, bucket,\n",
    "    sum(likes)/sum(views) as bucket_ctr,\n",
    "    quantileExact(0.9)(ctr) as ctr9\n",
    "FROM (SELECT exp_group, \n",
    "        xxHash64(user_id)%50 as bucket,\n",
    "        user_id,\n",
    "        sum(action = 'like') as likes,\n",
    "        sum(action = 'view') as views,\n",
    "        likes/views as ctr\n",
    "    FROM {db}.feed_actions \n",
    "    WHERE toDate(time) between '2025-01-31' and '2025-02-06'\n",
    "        and exp_group in (1,2)\n",
    "    GROUP BY exp_group, bucket, user_id)\n",
    "GROUP BY exp_group, bucket\n",
    "\"\"\""
   ]
  },
  {
   "cell_type": "code",
   "execution_count": 28,
   "id": "2414aef7-bebb-4fd1-ad5e-616fd6ee5a80",
   "metadata": {},
   "outputs": [],
   "source": [
    "df_5 = pandahouse.read_clickhouse(q_5, connection=connection)"
   ]
  },
  {
   "cell_type": "code",
   "execution_count": 29,
   "id": "4996b005-79f8-4925-98c3-4ed652bab72b",
   "metadata": {},
   "outputs": [
    {
     "data": {
      "text/plain": [
       "MannwhitneyuResult(statistic=1997.0, pvalue=2.6576427804010095e-07)"
      ]
     },
     "execution_count": 29,
     "metadata": {},
     "output_type": "execute_result"
    }
   ],
   "source": [
    "#тест Манна-Уитни поверх бакетного преобразования\n",
    "stats.mannwhitneyu(df_5[df_5.exp_group == 1].bucket_ctr, \n",
    "                   df_5[df_5.exp_group == 2].bucket_ctr, \n",
    "                   alternative = 'two-sided')"
   ]
  },
  {
   "cell_type": "code",
   "execution_count": 42,
   "id": "0f5cd145-ac84-462d-837f-ed5e8ced4f9f",
   "metadata": {},
   "outputs": [
    {
     "name": "stdout",
     "output_type": "stream",
     "text": [
      "Median Group 1 (Old System): 0.20966742837276003\n",
      "Median Group 2 (New System): 0.1979055389384647\n"
     ]
    }
   ],
   "source": [
    "#медианное значение бакетных CTR\n",
    "median_group_1 = df_5[df_5.exp_group == 1].bucket_ctr.median()\n",
    "median_group_2 = df_5[df_5.exp_group == 2].bucket_ctr.median()\n",
    "  \n",
    "print(f'Median Group 1 (Old System): {median_group_1}')\n",
    "print(f'Median Group 2 (New System): {median_group_2}')"
   ]
  },
  {
   "cell_type": "markdown",
   "id": "6e1763ad-a20f-4b7a-9454-0e5944616ed5",
   "metadata": {},
   "source": [
    "Посколькоу тест Манна-Уитни и Манна-Уитни поверх бакетного преобразования показывают стат значимые различия, мы можем сделать вывод, что разница в алгоритмах есть. На результаты других тестов не стоит обращать внимание из-за характера распределения одной из групп (оно бимодально).\n",
    "\n",
    "Медианное значение CTR и бакетное значение медиан у CTR показывают, что конверсия у новой системы хуже, значит она работает хуже и не стоит ее выпускать в прод."
   ]
  },
  {
   "cell_type": "markdown",
   "id": "d7838a50-7894-417e-afe2-46695178acd7",
   "metadata": {},
   "source": [
    "Бимодальное распределение конверсий пользователей в группе с новой системой рекомендаций может указывать на несколько важных моментов, которые стоит учитывать:\n",
    "\n",
    "1. Существование подгрупп: Бимодальность может свидетельствовать о том, что в нашей выборке пользователей есть две разные подгруппы, которые реагируют на рекомендации по-разному. Например, одна группа пользователей может активно взаимодействовать с контентом, в то время как другая — нет. Это может быть связано с различиями в интересах, предпочтениях или поведении пользователей.\n",
    "\n",
    "2. Эффективность алгоритма: Если новый алгоритм рекомендаций работает значительно лучше для одной подгруппы пользователей и значительно хуже для другой, возможно алгоритм успешно находит релевантный контент для некоторых пользователей, но не для всех.\n",
    "\n",
    "3. Также у нас может быть проблема с данными:\n",
    "\n",
    "   • Неполные или некорректные данные\n",
    "\n",
    "   • Наличие аномальных значений или выбросов в данных, которые искажают распределение.\n",
    "\n",
    "   • Разные уровни вовлеченности пользователей (например, новые пользователи против старых).\n",
    "\n",
    "4. Сегментация пользователей: Возможно, стоит рассмотреть возможность сегментации пользователей для более глубокого анализа. Например, можно разделить пользователей на группы по интересам или уровню активности и проанализировать, как новая система рекомендаций работает для каждой из этих групп.\n",
    "\n",
    "5. Возможно есть другие факторы, которые негативно работают на алгоритм (например, время суток, тип контента и т.д.).\n",
    "\n",
    "6. Новая система не показывает однородных результатов среди всех пользователей, это может быть сигналом о необходимости доработки алгоритма для улучшения его универсальности и эффективности."
   ]
  },
  {
   "cell_type": "markdown",
   "id": "455575db-8846-4fc6-adc8-36e27a85f73a",
   "metadata": {},
   "source": []
  }
 ],
 "metadata": {
  "kernelspec": {
   "display_name": "Python 3 (ipykernel)",
   "language": "python",
   "name": "python3"
  },
  "language_info": {
   "codemirror_mode": {
    "name": "ipython",
    "version": 3
   },
   "file_extension": ".py",
   "mimetype": "text/x-python",
   "name": "python",
   "nbconvert_exporter": "python",
   "pygments_lexer": "ipython3",
   "version": "3.8.10"
  }
 },
 "nbformat": 4,
 "nbformat_minor": 5
}
